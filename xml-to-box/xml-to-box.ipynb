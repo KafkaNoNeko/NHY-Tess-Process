{
 "metadata": {
  "language_info": {
   "codemirror_mode": {
    "name": "ipython",
    "version": 3
   },
   "file_extension": ".py",
   "mimetype": "text/x-python",
   "name": "python",
   "nbconvert_exporter": "python",
   "pygments_lexer": "ipython3",
   "version": "3.8.5"
  },
  "orig_nbformat": 4,
  "kernelspec": {
   "name": "python3",
   "display_name": "Python 3.8.5 64-bit ('base': conda)"
  },
  "interpreter": {
   "hash": "17d6e2a70f9cf53ef9837244e46cd8d5abe588a13ce4b5bfc9a45fa7efaf45ca"
  }
 },
 "nbformat": 4,
 "nbformat_minor": 2,
 "cells": [
  {
   "cell_type": "code",
   "execution_count": 1,
   "metadata": {},
   "outputs": [],
   "source": [
    "#imports\n",
    "import lxml.etree as ET\n",
    "import os"
   ]
  },
  {
   "cell_type": "code",
   "execution_count": 2,
   "metadata": {},
   "outputs": [],
   "source": [
    "# Applies XSLT transformations to extract the necessary information from the Aletheia PAGE XML\n",
    "# The information is then processed to obtain a Tesseract box file\n",
    "\n",
    "def xml_to_box(inputFile, outputFile):\n",
    "    with open(inputFile, encoding=\"utf8\") as f:\n",
    "        dom = ET.parse(f)\n",
    "\n",
    "    with open(\"get_symbol.xsl\", encoding=\"utf8\") as f:\n",
    "        xslt = ET.parse(f)\n",
    "    transform = ET.XSLT(xslt)\n",
    "    newdom = transform(dom)\n",
    "    sym = str(newdom, 'utf8')\n",
    "\n",
    "    with open(\"get_coordinates.xsl\", encoding=\"utf8\") as f:\n",
    "        xslt = ET.parse(f)\n",
    "    transform = ET.XSLT(xslt)\n",
    "    newdom = transform(dom)\n",
    "    coord = str(newdom, 'utf8')\n",
    "\n",
    "    with open(\"get_height.xsl\", encoding=\"utf8\") as f:\n",
    "        xslt = ET.parse(f)\n",
    "    transform = ET.XSLT(xslt)\n",
    "    newdom = transform(dom)\n",
    "    imageHeight = int(str(newdom, 'utf8'))\n",
    "\n",
    "    # Create list of coordinates for each symbol\n",
    "    a = coord.split('\\n')\n",
    "    # strip last line if empty\n",
    "    if a[-1] == '':\n",
    "        del a[-1]\n",
    "\n",
    "    # Create list of symbols\n",
    "    b = sym.split()\n",
    "\n",
    "    # initialise box data coordinate list\n",
    "    box = []\n",
    "\n",
    "    for i in range(len(a)):\n",
    "        # create list of coordinate pairs\n",
    "        s = a[i].split(' ')\n",
    "\n",
    "        # save coordinate pairs needed\n",
    "        c1 = s[0].split(',')\n",
    "        c2 = s[1].split(',')\n",
    "        c4 = s[3].split(',')\n",
    "\n",
    "        # get box coordinates\n",
    "        x1 = int(c1[0]) # X\n",
    "        y1 = int(c1[1]) # Y\n",
    "        height = int(c2[1])-y1\n",
    "        width = int(c4[0])-x1\n",
    "\n",
    "        #print('x1 = {x1}; y1={y1}; width = {w}; height = {h}'.format(x1=x1,y1=y1, h=height, w= width))\n",
    "\n",
    "        # create box data (coordinate section)\n",
    "        bottom = (imageHeight-y1)-height\n",
    "        right = x1 + width\n",
    "        top = imageHeight - y1\n",
    "\n",
    "        # add to list\n",
    "        # Since we will be processing a single page, '0' is added to the end of each line\n",
    "        box.append(b[i] + ' ' + str(x1) + ' ' + str(bottom) + ' ' + str(right) + ' ' + str(top) + ' 0' )\n",
    "\n",
    "    # create output text file\n",
    "\n",
    "    with open(outputFile, 'w', encoding=\"utf8\") as filehandle:\n",
    "        for i in box:\n",
    "            filehandle.write('%s\\n' % i)\n"
   ]
  },
  {
   "cell_type": "code",
   "execution_count": 5,
   "metadata": {},
   "outputs": [],
   "source": [
    "# Change Directory if needed\n",
    "# os.chdir(<path>)"
   ]
  }
 ]
}